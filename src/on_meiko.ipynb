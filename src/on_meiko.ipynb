{
 "cells": [
  {
   "cell_type": "code",
   "execution_count": 1,
   "id": "3f0153fd",
   "metadata": {},
   "outputs": [],
   "source": [
    "from daily_report_functions import *\n",
    "import pandas as pd "
   ]
  },
  {
   "cell_type": "code",
   "execution_count": 2,
   "id": "5e7ff90f",
   "metadata": {},
   "outputs": [],
   "source": [
    "df = load_match_list()\n",
    "\n",
    "meiko_on = shared_games_list([\"ON\"],[\"meiko\"],df)[0]"
   ]
  },
  {
   "cell_type": "code",
   "execution_count": 3,
   "id": "c105d631",
   "metadata": {},
   "outputs": [],
   "source": [
    "meiko_on_match_list = meiko_on[[\"Date\",\"Duration\",\"Game\"]].drop_duplicates()"
   ]
  },
  {
   "cell_type": "code",
   "execution_count": 4,
   "id": "76905855",
   "metadata": {},
   "outputs": [
    {
     "data": {
      "text/html": [
       "<div>\n",
       "<style scoped>\n",
       "    .dataframe tbody tr th:only-of-type {\n",
       "        vertical-align: middle;\n",
       "    }\n",
       "\n",
       "    .dataframe tbody tr th {\n",
       "        vertical-align: top;\n",
       "    }\n",
       "\n",
       "    .dataframe thead th {\n",
       "        text-align: right;\n",
       "    }\n",
       "</style>\n",
       "<table border=\"1\" class=\"dataframe\">\n",
       "  <thead>\n",
       "    <tr style=\"text-align: right;\">\n",
       "      <th></th>\n",
       "      <th>Date</th>\n",
       "      <th>Duration</th>\n",
       "      <th>Game</th>\n",
       "    </tr>\n",
       "  </thead>\n",
       "  <tbody>\n",
       "    <tr>\n",
       "      <th>0</th>\n",
       "      <td>2021-06-24</td>\n",
       "      <td>32:21</td>\n",
       "      <td>Suning vs EDG</td>\n",
       "    </tr>\n",
       "    <tr>\n",
       "      <th>1</th>\n",
       "      <td>2021-06-24</td>\n",
       "      <td>32:09</td>\n",
       "      <td>Suning vs EDG</td>\n",
       "    </tr>\n",
       "    <tr>\n",
       "      <th>2</th>\n",
       "      <td>2021-02-05</td>\n",
       "      <td>29:03</td>\n",
       "      <td>EDG vs Suning</td>\n",
       "    </tr>\n",
       "    <tr>\n",
       "      <th>3</th>\n",
       "      <td>2021-02-05</td>\n",
       "      <td>31:32</td>\n",
       "      <td>EDG vs Suning</td>\n",
       "    </tr>\n",
       "    <tr>\n",
       "      <th>4</th>\n",
       "      <td>2022-06-13</td>\n",
       "      <td>29:09</td>\n",
       "      <td>WBG vs EDG</td>\n",
       "    </tr>\n",
       "    <tr>\n",
       "      <th>5</th>\n",
       "      <td>2022-06-13</td>\n",
       "      <td>37:47</td>\n",
       "      <td>WBG vs EDG</td>\n",
       "    </tr>\n",
       "    <tr>\n",
       "      <th>6</th>\n",
       "      <td>2022-03-29</td>\n",
       "      <td>36:51</td>\n",
       "      <td>WBG vs EDG</td>\n",
       "    </tr>\n",
       "    <tr>\n",
       "      <th>7</th>\n",
       "      <td>2022-03-29</td>\n",
       "      <td>40:28</td>\n",
       "      <td>WBG vs EDG</td>\n",
       "    </tr>\n",
       "    <tr>\n",
       "      <th>8</th>\n",
       "      <td>2022-03-29</td>\n",
       "      <td>42:46</td>\n",
       "      <td>WBG vs EDG</td>\n",
       "    </tr>\n",
       "    <tr>\n",
       "      <th>9</th>\n",
       "      <td>2022-03-29</td>\n",
       "      <td>39:36</td>\n",
       "      <td>WBG vs EDG</td>\n",
       "    </tr>\n",
       "    <tr>\n",
       "      <th>10</th>\n",
       "      <td>2022-02-15</td>\n",
       "      <td>31:20</td>\n",
       "      <td>EDG vs WBG</td>\n",
       "    </tr>\n",
       "    <tr>\n",
       "      <th>11</th>\n",
       "      <td>2022-02-15</td>\n",
       "      <td>33:18</td>\n",
       "      <td>EDG vs WBG</td>\n",
       "    </tr>\n",
       "    <tr>\n",
       "      <th>12</th>\n",
       "      <td>2023-06-07</td>\n",
       "      <td>26:00</td>\n",
       "      <td>EDG vs BLG</td>\n",
       "    </tr>\n",
       "    <tr>\n",
       "      <th>14</th>\n",
       "      <td>2023-06-07</td>\n",
       "      <td>27:16</td>\n",
       "      <td>EDG vs BLG</td>\n",
       "    </tr>\n",
       "    <tr>\n",
       "      <th>17</th>\n",
       "      <td>2023-04-11</td>\n",
       "      <td>31:59</td>\n",
       "      <td>EDG vs BLG</td>\n",
       "    </tr>\n",
       "    <tr>\n",
       "      <th>18</th>\n",
       "      <td>2023-04-11</td>\n",
       "      <td>41:23</td>\n",
       "      <td>EDG vs BLG</td>\n",
       "    </tr>\n",
       "    <tr>\n",
       "      <th>19</th>\n",
       "      <td>2023-04-11</td>\n",
       "      <td>28:59</td>\n",
       "      <td>EDG vs BLG</td>\n",
       "    </tr>\n",
       "    <tr>\n",
       "      <th>20</th>\n",
       "      <td>2023-04-11</td>\n",
       "      <td>35:33</td>\n",
       "      <td>EDG vs BLG</td>\n",
       "    </tr>\n",
       "    <tr>\n",
       "      <th>21</th>\n",
       "      <td>2023-04-11</td>\n",
       "      <td>27:21</td>\n",
       "      <td>EDG vs BLG</td>\n",
       "    </tr>\n",
       "    <tr>\n",
       "      <th>22</th>\n",
       "      <td>2023-02-12</td>\n",
       "      <td>31:06</td>\n",
       "      <td>BLG vs EDG</td>\n",
       "    </tr>\n",
       "    <tr>\n",
       "      <th>23</th>\n",
       "      <td>2023-02-12</td>\n",
       "      <td>25:38</td>\n",
       "      <td>BLG vs EDG</td>\n",
       "    </tr>\n",
       "    <tr>\n",
       "      <th>24</th>\n",
       "      <td>2024-08-21</td>\n",
       "      <td>30:33</td>\n",
       "      <td>BLG vs Top Esports</td>\n",
       "    </tr>\n",
       "    <tr>\n",
       "      <th>25</th>\n",
       "      <td>2024-08-21</td>\n",
       "      <td>24:36</td>\n",
       "      <td>BLG vs Top Esports</td>\n",
       "    </tr>\n",
       "    <tr>\n",
       "      <th>26</th>\n",
       "      <td>2024-08-21</td>\n",
       "      <td>30:46</td>\n",
       "      <td>BLG vs Top Esports</td>\n",
       "    </tr>\n",
       "    <tr>\n",
       "      <th>27</th>\n",
       "      <td>2024-08-21</td>\n",
       "      <td>28:25</td>\n",
       "      <td>BLG vs Top Esports</td>\n",
       "    </tr>\n",
       "    <tr>\n",
       "      <th>28</th>\n",
       "      <td>2024-07-12</td>\n",
       "      <td>29:00</td>\n",
       "      <td>Top Esports vs BLG</td>\n",
       "    </tr>\n",
       "    <tr>\n",
       "      <th>29</th>\n",
       "      <td>2024-07-12</td>\n",
       "      <td>28:09</td>\n",
       "      <td>Top Esports vs BLG</td>\n",
       "    </tr>\n",
       "    <tr>\n",
       "      <th>30</th>\n",
       "      <td>2024-07-12</td>\n",
       "      <td>42:56</td>\n",
       "      <td>Top Esports vs BLG</td>\n",
       "    </tr>\n",
       "    <tr>\n",
       "      <th>31</th>\n",
       "      <td>2024-04-20</td>\n",
       "      <td>32:40</td>\n",
       "      <td>BLG vs Top Esports</td>\n",
       "    </tr>\n",
       "    <tr>\n",
       "      <th>32</th>\n",
       "      <td>2024-04-20</td>\n",
       "      <td>36:43</td>\n",
       "      <td>BLG vs Top Esports</td>\n",
       "    </tr>\n",
       "    <tr>\n",
       "      <th>33</th>\n",
       "      <td>2024-04-20</td>\n",
       "      <td>23:12</td>\n",
       "      <td>BLG vs Top Esports</td>\n",
       "    </tr>\n",
       "    <tr>\n",
       "      <th>34</th>\n",
       "      <td>2024-04-20</td>\n",
       "      <td>43:17</td>\n",
       "      <td>BLG vs Top Esports</td>\n",
       "    </tr>\n",
       "    <tr>\n",
       "      <th>35</th>\n",
       "      <td>2024-04-11</td>\n",
       "      <td>35:05</td>\n",
       "      <td>BLG vs Top Esports</td>\n",
       "    </tr>\n",
       "    <tr>\n",
       "      <th>36</th>\n",
       "      <td>2024-04-11</td>\n",
       "      <td>35:00</td>\n",
       "      <td>BLG vs Top Esports</td>\n",
       "    </tr>\n",
       "    <tr>\n",
       "      <th>37</th>\n",
       "      <td>2024-04-11</td>\n",
       "      <td>37:53</td>\n",
       "      <td>BLG vs Top Esports</td>\n",
       "    </tr>\n",
       "    <tr>\n",
       "      <th>38</th>\n",
       "      <td>2024-04-11</td>\n",
       "      <td>34:41</td>\n",
       "      <td>BLG vs Top Esports</td>\n",
       "    </tr>\n",
       "    <tr>\n",
       "      <th>39</th>\n",
       "      <td>2024-04-11</td>\n",
       "      <td>35:50</td>\n",
       "      <td>BLG vs Top Esports</td>\n",
       "    </tr>\n",
       "    <tr>\n",
       "      <th>40</th>\n",
       "      <td>2024-01-22</td>\n",
       "      <td>27:29</td>\n",
       "      <td>BLG vs Top Esports</td>\n",
       "    </tr>\n",
       "    <tr>\n",
       "      <th>41</th>\n",
       "      <td>2024-01-22</td>\n",
       "      <td>30:34</td>\n",
       "      <td>BLG vs Top Esports</td>\n",
       "    </tr>\n",
       "    <tr>\n",
       "      <th>42</th>\n",
       "      <td>2024-01-22</td>\n",
       "      <td>27:03</td>\n",
       "      <td>BLG vs Top Esports</td>\n",
       "    </tr>\n",
       "  </tbody>\n",
       "</table>\n",
       "</div>"
      ],
      "text/plain": [
       "         Date Duration                Game\n",
       "0  2021-06-24    32:21       Suning vs EDG\n",
       "1  2021-06-24    32:09       Suning vs EDG\n",
       "2  2021-02-05    29:03       EDG vs Suning\n",
       "3  2021-02-05    31:32       EDG vs Suning\n",
       "4  2022-06-13    29:09          WBG vs EDG\n",
       "5  2022-06-13    37:47          WBG vs EDG\n",
       "6  2022-03-29    36:51          WBG vs EDG\n",
       "7  2022-03-29    40:28          WBG vs EDG\n",
       "8  2022-03-29    42:46          WBG vs EDG\n",
       "9  2022-03-29    39:36          WBG vs EDG\n",
       "10 2022-02-15    31:20          EDG vs WBG\n",
       "11 2022-02-15    33:18          EDG vs WBG\n",
       "12 2023-06-07    26:00          EDG vs BLG\n",
       "14 2023-06-07    27:16          EDG vs BLG\n",
       "17 2023-04-11    31:59          EDG vs BLG\n",
       "18 2023-04-11    41:23          EDG vs BLG\n",
       "19 2023-04-11    28:59          EDG vs BLG\n",
       "20 2023-04-11    35:33          EDG vs BLG\n",
       "21 2023-04-11    27:21          EDG vs BLG\n",
       "22 2023-02-12    31:06          BLG vs EDG\n",
       "23 2023-02-12    25:38          BLG vs EDG\n",
       "24 2024-08-21    30:33  BLG vs Top Esports\n",
       "25 2024-08-21    24:36  BLG vs Top Esports\n",
       "26 2024-08-21    30:46  BLG vs Top Esports\n",
       "27 2024-08-21    28:25  BLG vs Top Esports\n",
       "28 2024-07-12    29:00  Top Esports vs BLG\n",
       "29 2024-07-12    28:09  Top Esports vs BLG\n",
       "30 2024-07-12    42:56  Top Esports vs BLG\n",
       "31 2024-04-20    32:40  BLG vs Top Esports\n",
       "32 2024-04-20    36:43  BLG vs Top Esports\n",
       "33 2024-04-20    23:12  BLG vs Top Esports\n",
       "34 2024-04-20    43:17  BLG vs Top Esports\n",
       "35 2024-04-11    35:05  BLG vs Top Esports\n",
       "36 2024-04-11    35:00  BLG vs Top Esports\n",
       "37 2024-04-11    37:53  BLG vs Top Esports\n",
       "38 2024-04-11    34:41  BLG vs Top Esports\n",
       "39 2024-04-11    35:50  BLG vs Top Esports\n",
       "40 2024-01-22    27:29  BLG vs Top Esports\n",
       "41 2024-01-22    30:34  BLG vs Top Esports\n",
       "42 2024-01-22    27:03  BLG vs Top Esports"
      ]
     },
     "execution_count": 4,
     "metadata": {},
     "output_type": "execute_result"
    }
   ],
   "source": [
    "meiko_on_match_list"
   ]
  },
  {
   "cell_type": "code",
   "execution_count": 5,
   "id": "7152caad",
   "metadata": {},
   "outputs": [],
   "source": [
    "meiko_on_matches = meiko_on_match_list.merge(df[(df[\"player\"] == \"ON\")| (df[\"player\"] == \"meiko\")], on = [\"Date\",\"Duration\",\"Game\"])"
   ]
  },
  {
   "cell_type": "code",
   "execution_count": 6,
   "id": "b9b2b7e9",
   "metadata": {},
   "outputs": [],
   "source": [
    "meiko_on_matches[\"KA\"] = meiko_on_matches[\"K\"] + meiko_on_matches[\"A\"]"
   ]
  },
  {
   "cell_type": "code",
   "execution_count": 7,
   "id": "03278cf0",
   "metadata": {},
   "outputs": [
    {
     "data": {
      "text/html": [
       "<div>\n",
       "<style scoped>\n",
       "    .dataframe tbody tr th:only-of-type {\n",
       "        vertical-align: middle;\n",
       "    }\n",
       "\n",
       "    .dataframe tbody tr th {\n",
       "        vertical-align: top;\n",
       "    }\n",
       "\n",
       "    .dataframe thead th {\n",
       "        text-align: right;\n",
       "    }\n",
       "</style>\n",
       "<table border=\"1\" class=\"dataframe\">\n",
       "  <thead>\n",
       "    <tr style=\"text-align: right;\">\n",
       "      <th></th>\n",
       "      <th>Date</th>\n",
       "      <th>Duration</th>\n",
       "      <th>Game</th>\n",
       "      <th>Champion</th>\n",
       "      <th>Result</th>\n",
       "      <th>Score</th>\n",
       "      <th>Build</th>\n",
       "      <th>Tournament</th>\n",
       "      <th>player</th>\n",
       "      <th>gg_id</th>\n",
       "      <th>season</th>\n",
       "      <th>duration_minutes</th>\n",
       "      <th>K</th>\n",
       "      <th>D</th>\n",
       "      <th>A</th>\n",
       "      <th>KA</th>\n",
       "    </tr>\n",
       "  </thead>\n",
       "  <tbody>\n",
       "    <tr>\n",
       "      <th>0</th>\n",
       "      <td>2021-06-24</td>\n",
       "      <td>32:21</td>\n",
       "      <td>Suning vs EDG</td>\n",
       "      <td>Karma</td>\n",
       "      <td>Defeat</td>\n",
       "      <td>0/4/2</td>\n",
       "      <td></td>\n",
       "      <td>LPL Summer 2021</td>\n",
       "      <td>ON</td>\n",
       "      <td>3353</td>\n",
       "      <td>S11</td>\n",
       "      <td>32.350000</td>\n",
       "      <td>0</td>\n",
       "      <td>4</td>\n",
       "      <td>2</td>\n",
       "      <td>2</td>\n",
       "    </tr>\n",
       "    <tr>\n",
       "      <th>1</th>\n",
       "      <td>2021-06-24</td>\n",
       "      <td>32:21</td>\n",
       "      <td>Suning vs EDG</td>\n",
       "      <td>Nautilus</td>\n",
       "      <td>Victory</td>\n",
       "      <td>2/1/10</td>\n",
       "      <td></td>\n",
       "      <td>LPL Summer 2021</td>\n",
       "      <td>meiko</td>\n",
       "      <td>386</td>\n",
       "      <td>S11</td>\n",
       "      <td>32.350000</td>\n",
       "      <td>2</td>\n",
       "      <td>1</td>\n",
       "      <td>10</td>\n",
       "      <td>12</td>\n",
       "    </tr>\n",
       "    <tr>\n",
       "      <th>2</th>\n",
       "      <td>2021-06-24</td>\n",
       "      <td>32:09</td>\n",
       "      <td>Suning vs EDG</td>\n",
       "      <td>Leona</td>\n",
       "      <td>Defeat</td>\n",
       "      <td>2/5/7</td>\n",
       "      <td></td>\n",
       "      <td>LPL Summer 2021</td>\n",
       "      <td>ON</td>\n",
       "      <td>3353</td>\n",
       "      <td>S11</td>\n",
       "      <td>32.150000</td>\n",
       "      <td>2</td>\n",
       "      <td>5</td>\n",
       "      <td>7</td>\n",
       "      <td>9</td>\n",
       "    </tr>\n",
       "    <tr>\n",
       "      <th>3</th>\n",
       "      <td>2021-06-24</td>\n",
       "      <td>32:09</td>\n",
       "      <td>Suning vs EDG</td>\n",
       "      <td>Karma</td>\n",
       "      <td>Victory</td>\n",
       "      <td>0/4/9</td>\n",
       "      <td></td>\n",
       "      <td>LPL Summer 2021</td>\n",
       "      <td>meiko</td>\n",
       "      <td>386</td>\n",
       "      <td>S11</td>\n",
       "      <td>32.150000</td>\n",
       "      <td>0</td>\n",
       "      <td>4</td>\n",
       "      <td>9</td>\n",
       "      <td>9</td>\n",
       "    </tr>\n",
       "    <tr>\n",
       "      <th>4</th>\n",
       "      <td>2021-02-05</td>\n",
       "      <td>29:03</td>\n",
       "      <td>EDG vs Suning</td>\n",
       "      <td>Rell</td>\n",
       "      <td>Defeat</td>\n",
       "      <td>0/4/3</td>\n",
       "      <td></td>\n",
       "      <td>LPL Spring 2021</td>\n",
       "      <td>ON</td>\n",
       "      <td>3353</td>\n",
       "      <td>S11</td>\n",
       "      <td>29.050000</td>\n",
       "      <td>0</td>\n",
       "      <td>4</td>\n",
       "      <td>3</td>\n",
       "      <td>3</td>\n",
       "    </tr>\n",
       "    <tr>\n",
       "      <th>...</th>\n",
       "      <td>...</td>\n",
       "      <td>...</td>\n",
       "      <td>...</td>\n",
       "      <td>...</td>\n",
       "      <td>...</td>\n",
       "      <td>...</td>\n",
       "      <td>...</td>\n",
       "      <td>...</td>\n",
       "      <td>...</td>\n",
       "      <td>...</td>\n",
       "      <td>...</td>\n",
       "      <td>...</td>\n",
       "      <td>...</td>\n",
       "      <td>...</td>\n",
       "      <td>...</td>\n",
       "      <td>...</td>\n",
       "    </tr>\n",
       "    <tr>\n",
       "      <th>77</th>\n",
       "      <td>2024-01-22</td>\n",
       "      <td>27:29</td>\n",
       "      <td>BLG vs Top Esports</td>\n",
       "      <td>Soraka</td>\n",
       "      <td>Defeat</td>\n",
       "      <td>1/3/4</td>\n",
       "      <td></td>\n",
       "      <td>LPL Spring 2024</td>\n",
       "      <td>meiko</td>\n",
       "      <td>386</td>\n",
       "      <td>S14</td>\n",
       "      <td>27.483333</td>\n",
       "      <td>1</td>\n",
       "      <td>3</td>\n",
       "      <td>4</td>\n",
       "      <td>5</td>\n",
       "    </tr>\n",
       "    <tr>\n",
       "      <th>78</th>\n",
       "      <td>2024-01-22</td>\n",
       "      <td>30:34</td>\n",
       "      <td>BLG vs Top Esports</td>\n",
       "      <td>Rakan</td>\n",
       "      <td>Defeat</td>\n",
       "      <td>1/3/0</td>\n",
       "      <td></td>\n",
       "      <td>LPL Spring 2024</td>\n",
       "      <td>ON</td>\n",
       "      <td>3353</td>\n",
       "      <td>S14</td>\n",
       "      <td>30.566667</td>\n",
       "      <td>1</td>\n",
       "      <td>3</td>\n",
       "      <td>0</td>\n",
       "      <td>1</td>\n",
       "    </tr>\n",
       "    <tr>\n",
       "      <th>79</th>\n",
       "      <td>2024-01-22</td>\n",
       "      <td>30:34</td>\n",
       "      <td>BLG vs Top Esports</td>\n",
       "      <td>Renata Glasc</td>\n",
       "      <td>Victory</td>\n",
       "      <td>2/2/10</td>\n",
       "      <td></td>\n",
       "      <td>LPL Spring 2024</td>\n",
       "      <td>meiko</td>\n",
       "      <td>386</td>\n",
       "      <td>S14</td>\n",
       "      <td>30.566667</td>\n",
       "      <td>2</td>\n",
       "      <td>2</td>\n",
       "      <td>10</td>\n",
       "      <td>12</td>\n",
       "    </tr>\n",
       "    <tr>\n",
       "      <th>80</th>\n",
       "      <td>2024-01-22</td>\n",
       "      <td>27:03</td>\n",
       "      <td>BLG vs Top Esports</td>\n",
       "      <td>Ashe</td>\n",
       "      <td>Victory</td>\n",
       "      <td>3/1/10</td>\n",
       "      <td></td>\n",
       "      <td>LPL Spring 2024</td>\n",
       "      <td>ON</td>\n",
       "      <td>3353</td>\n",
       "      <td>S14</td>\n",
       "      <td>27.050000</td>\n",
       "      <td>3</td>\n",
       "      <td>1</td>\n",
       "      <td>10</td>\n",
       "      <td>13</td>\n",
       "    </tr>\n",
       "    <tr>\n",
       "      <th>81</th>\n",
       "      <td>2024-01-22</td>\n",
       "      <td>27:03</td>\n",
       "      <td>BLG vs Top Esports</td>\n",
       "      <td>Nautilus</td>\n",
       "      <td>Defeat</td>\n",
       "      <td>1/4/2</td>\n",
       "      <td></td>\n",
       "      <td>LPL Spring 2024</td>\n",
       "      <td>meiko</td>\n",
       "      <td>386</td>\n",
       "      <td>S14</td>\n",
       "      <td>27.050000</td>\n",
       "      <td>1</td>\n",
       "      <td>4</td>\n",
       "      <td>2</td>\n",
       "      <td>3</td>\n",
       "    </tr>\n",
       "  </tbody>\n",
       "</table>\n",
       "<p>82 rows × 16 columns</p>\n",
       "</div>"
      ],
      "text/plain": [
       "         Date Duration                Game      Champion   Result   Score  \\\n",
       "0  2021-06-24    32:21       Suning vs EDG         Karma   Defeat   0/4/2   \n",
       "1  2021-06-24    32:21       Suning vs EDG      Nautilus  Victory  2/1/10   \n",
       "2  2021-06-24    32:09       Suning vs EDG         Leona   Defeat   2/5/7   \n",
       "3  2021-06-24    32:09       Suning vs EDG         Karma  Victory   0/4/9   \n",
       "4  2021-02-05    29:03       EDG vs Suning          Rell   Defeat   0/4/3   \n",
       "..        ...      ...                 ...           ...      ...     ...   \n",
       "77 2024-01-22    27:29  BLG vs Top Esports        Soraka   Defeat   1/3/4   \n",
       "78 2024-01-22    30:34  BLG vs Top Esports         Rakan   Defeat   1/3/0   \n",
       "79 2024-01-22    30:34  BLG vs Top Esports  Renata Glasc  Victory  2/2/10   \n",
       "80 2024-01-22    27:03  BLG vs Top Esports          Ashe  Victory  3/1/10   \n",
       "81 2024-01-22    27:03  BLG vs Top Esports      Nautilus   Defeat   1/4/2   \n",
       "\n",
       "   Build       Tournament player gg_id season  duration_minutes  K  D   A  KA  \n",
       "0         LPL Summer 2021     ON  3353    S11         32.350000  0  4   2   2  \n",
       "1         LPL Summer 2021  meiko   386    S11         32.350000  2  1  10  12  \n",
       "2         LPL Summer 2021     ON  3353    S11         32.150000  2  5   7   9  \n",
       "3         LPL Summer 2021  meiko   386    S11         32.150000  0  4   9   9  \n",
       "4         LPL Spring 2021     ON  3353    S11         29.050000  0  4   3   3  \n",
       "..   ...              ...    ...   ...    ...               ... .. ..  ..  ..  \n",
       "77        LPL Spring 2024  meiko   386    S14         27.483333  1  3   4   5  \n",
       "78        LPL Spring 2024     ON  3353    S14         30.566667  1  3   0   1  \n",
       "79        LPL Spring 2024  meiko   386    S14         30.566667  2  2  10  12  \n",
       "80        LPL Spring 2024     ON  3353    S14         27.050000  3  1  10  13  \n",
       "81        LPL Spring 2024  meiko   386    S14         27.050000  1  4   2   3  \n",
       "\n",
       "[82 rows x 16 columns]"
      ]
     },
     "execution_count": 7,
     "metadata": {},
     "output_type": "execute_result"
    }
   ],
   "source": [
    "meiko_on_matches"
   ]
  },
  {
   "cell_type": "code",
   "execution_count": null,
   "id": "60990f80",
   "metadata": {},
   "outputs": [
    {
     "data": {
      "application/vnd.plotly.v1+json": {
       "config": {
        "plotlyServerURL": "https://plot.ly"
       },
       "data": [
        {
         "hovertemplate": "player=ON<br>Result=Defeat<br>D=%{x}<br>KA=%{y}<extra></extra>",
         "legendgroup": "ON, Defeat",
         "marker": {
          "color": "#636efa",
          "size": 10,
          "symbol": "circle"
         },
         "mode": "markers",
         "name": "ON, Defeat",
         "orientation": "v",
         "showlegend": true,
         "type": "scatter",
         "x": [
          4,
          5,
          4,
          5,
          3,
          2,
          8,
          5,
          7,
          2,
          5,
          1,
          10,
          7,
          9,
          9,
          2,
          3
         ],
         "xaxis": "x",
         "y": [
          2,
          9,
          3,
          3,
          3,
          6,
          2,
          5,
          7,
          13,
          5,
          3,
          9,
          14,
          16,
          11,
          2,
          1
         ],
         "yaxis": "y"
        },
        {
         "hovertemplate": "player=ON<br>Result=Victory<br>D=%{x}<br>KA=%{y}<extra></extra>",
         "legendgroup": "ON, Victory",
         "marker": {
          "color": "#636efa",
          "size": 10,
          "symbol": "diamond"
         },
         "mode": "markers",
         "name": "ON, Victory",
         "orientation": "v",
         "showlegend": true,
         "type": "scatter",
         "x": [
          5,
          4,
          2,
          0,
          3,
          3,
          1,
          3,
          0,
          3,
          9,
          2,
          2,
          2,
          3,
          1,
          2,
          1,
          1,
          1,
          5,
          1,
          1
         ],
         "xaxis": "x",
         "y": [
          12,
          6,
          12,
          7,
          10,
          21,
          11,
          15,
          9,
          12,
          27,
          16,
          16,
          12,
          9,
          12,
          15,
          14,
          12,
          20,
          14,
          15,
          13
         ],
         "yaxis": "y"
        },
        {
         "hovertemplate": "player=meiko<br>Result=Defeat<br>D=%{x}<br>KA=%{y}<extra></extra>",
         "legendgroup": "meiko, Defeat",
         "marker": {
          "color": "#EF553B",
          "size": 10,
          "symbol": "circle"
         },
         "mode": "markers",
         "name": "meiko, Defeat",
         "orientation": "v",
         "showlegend": true,
         "type": "scatter",
         "x": [
          7,
          6,
          3,
          3,
          3,
          4,
          4,
          3,
          5,
          3,
          10,
          6,
          3,
          5,
          4,
          2,
          5,
          4,
          3,
          4,
          4,
          3,
          4
         ],
         "xaxis": "x",
         "y": [
          15,
          9,
          4,
          0,
          4,
          8,
          3,
          12,
          0,
          7,
          18,
          3,
          5,
          4,
          6,
          4,
          4,
          9,
          6,
          3,
          9,
          5,
          3
         ],
         "yaxis": "y"
        },
        {
         "hovertemplate": "player=meiko<br>Result=Victory<br>D=%{x}<br>KA=%{y}<extra></extra>",
         "legendgroup": "meiko, Victory",
         "marker": {
          "color": "#EF553B",
          "size": 10,
          "symbol": "diamond"
         },
         "mode": "markers",
         "name": "meiko, Victory",
         "orientation": "v",
         "showlegend": true,
         "type": "scatter",
         "x": [
          1,
          4,
          3,
          1,
          1,
          2,
          2,
          3,
          3,
          6,
          1,
          1,
          3,
          3,
          4,
          4,
          1,
          2
         ],
         "xaxis": "x",
         "y": [
          12,
          9,
          9,
          12,
          8,
          8,
          10,
          16,
          23,
          13,
          12,
          8,
          20,
          15,
          17,
          17,
          11,
          12
         ],
         "yaxis": "y"
        }
       ],
       "layout": {
        "legend": {
         "title": {
          "text": "player, Result"
         },
         "tracegroupgap": 0
        },
        "margin": {
         "t": 60
        },
        "template": {
         "data": {
          "bar": [
           {
            "error_x": {
             "color": "#2a3f5f"
            },
            "error_y": {
             "color": "#2a3f5f"
            },
            "marker": {
             "line": {
              "color": "#E5ECF6",
              "width": 0.5
             },
             "pattern": {
              "fillmode": "overlay",
              "size": 10,
              "solidity": 0.2
             }
            },
            "type": "bar"
           }
          ],
          "barpolar": [
           {
            "marker": {
             "line": {
              "color": "#E5ECF6",
              "width": 0.5
             },
             "pattern": {
              "fillmode": "overlay",
              "size": 10,
              "solidity": 0.2
             }
            },
            "type": "barpolar"
           }
          ],
          "carpet": [
           {
            "aaxis": {
             "endlinecolor": "#2a3f5f",
             "gridcolor": "white",
             "linecolor": "white",
             "minorgridcolor": "white",
             "startlinecolor": "#2a3f5f"
            },
            "baxis": {
             "endlinecolor": "#2a3f5f",
             "gridcolor": "white",
             "linecolor": "white",
             "minorgridcolor": "white",
             "startlinecolor": "#2a3f5f"
            },
            "type": "carpet"
           }
          ],
          "choropleth": [
           {
            "colorbar": {
             "outlinewidth": 0,
             "ticks": ""
            },
            "type": "choropleth"
           }
          ],
          "contour": [
           {
            "colorbar": {
             "outlinewidth": 0,
             "ticks": ""
            },
            "colorscale": [
             [
              0,
              "#0d0887"
             ],
             [
              0.1111111111111111,
              "#46039f"
             ],
             [
              0.2222222222222222,
              "#7201a8"
             ],
             [
              0.3333333333333333,
              "#9c179e"
             ],
             [
              0.4444444444444444,
              "#bd3786"
             ],
             [
              0.5555555555555556,
              "#d8576b"
             ],
             [
              0.6666666666666666,
              "#ed7953"
             ],
             [
              0.7777777777777778,
              "#fb9f3a"
             ],
             [
              0.8888888888888888,
              "#fdca26"
             ],
             [
              1,
              "#f0f921"
             ]
            ],
            "type": "contour"
           }
          ],
          "contourcarpet": [
           {
            "colorbar": {
             "outlinewidth": 0,
             "ticks": ""
            },
            "type": "contourcarpet"
           }
          ],
          "heatmap": [
           {
            "colorbar": {
             "outlinewidth": 0,
             "ticks": ""
            },
            "colorscale": [
             [
              0,
              "#0d0887"
             ],
             [
              0.1111111111111111,
              "#46039f"
             ],
             [
              0.2222222222222222,
              "#7201a8"
             ],
             [
              0.3333333333333333,
              "#9c179e"
             ],
             [
              0.4444444444444444,
              "#bd3786"
             ],
             [
              0.5555555555555556,
              "#d8576b"
             ],
             [
              0.6666666666666666,
              "#ed7953"
             ],
             [
              0.7777777777777778,
              "#fb9f3a"
             ],
             [
              0.8888888888888888,
              "#fdca26"
             ],
             [
              1,
              "#f0f921"
             ]
            ],
            "type": "heatmap"
           }
          ],
          "heatmapgl": [
           {
            "colorbar": {
             "outlinewidth": 0,
             "ticks": ""
            },
            "colorscale": [
             [
              0,
              "#0d0887"
             ],
             [
              0.1111111111111111,
              "#46039f"
             ],
             [
              0.2222222222222222,
              "#7201a8"
             ],
             [
              0.3333333333333333,
              "#9c179e"
             ],
             [
              0.4444444444444444,
              "#bd3786"
             ],
             [
              0.5555555555555556,
              "#d8576b"
             ],
             [
              0.6666666666666666,
              "#ed7953"
             ],
             [
              0.7777777777777778,
              "#fb9f3a"
             ],
             [
              0.8888888888888888,
              "#fdca26"
             ],
             [
              1,
              "#f0f921"
             ]
            ],
            "type": "heatmapgl"
           }
          ],
          "histogram": [
           {
            "marker": {
             "pattern": {
              "fillmode": "overlay",
              "size": 10,
              "solidity": 0.2
             }
            },
            "type": "histogram"
           }
          ],
          "histogram2d": [
           {
            "colorbar": {
             "outlinewidth": 0,
             "ticks": ""
            },
            "colorscale": [
             [
              0,
              "#0d0887"
             ],
             [
              0.1111111111111111,
              "#46039f"
             ],
             [
              0.2222222222222222,
              "#7201a8"
             ],
             [
              0.3333333333333333,
              "#9c179e"
             ],
             [
              0.4444444444444444,
              "#bd3786"
             ],
             [
              0.5555555555555556,
              "#d8576b"
             ],
             [
              0.6666666666666666,
              "#ed7953"
             ],
             [
              0.7777777777777778,
              "#fb9f3a"
             ],
             [
              0.8888888888888888,
              "#fdca26"
             ],
             [
              1,
              "#f0f921"
             ]
            ],
            "type": "histogram2d"
           }
          ],
          "histogram2dcontour": [
           {
            "colorbar": {
             "outlinewidth": 0,
             "ticks": ""
            },
            "colorscale": [
             [
              0,
              "#0d0887"
             ],
             [
              0.1111111111111111,
              "#46039f"
             ],
             [
              0.2222222222222222,
              "#7201a8"
             ],
             [
              0.3333333333333333,
              "#9c179e"
             ],
             [
              0.4444444444444444,
              "#bd3786"
             ],
             [
              0.5555555555555556,
              "#d8576b"
             ],
             [
              0.6666666666666666,
              "#ed7953"
             ],
             [
              0.7777777777777778,
              "#fb9f3a"
             ],
             [
              0.8888888888888888,
              "#fdca26"
             ],
             [
              1,
              "#f0f921"
             ]
            ],
            "type": "histogram2dcontour"
           }
          ],
          "mesh3d": [
           {
            "colorbar": {
             "outlinewidth": 0,
             "ticks": ""
            },
            "type": "mesh3d"
           }
          ],
          "parcoords": [
           {
            "line": {
             "colorbar": {
              "outlinewidth": 0,
              "ticks": ""
             }
            },
            "type": "parcoords"
           }
          ],
          "pie": [
           {
            "automargin": true,
            "type": "pie"
           }
          ],
          "scatter": [
           {
            "fillpattern": {
             "fillmode": "overlay",
             "size": 10,
             "solidity": 0.2
            },
            "type": "scatter"
           }
          ],
          "scatter3d": [
           {
            "line": {
             "colorbar": {
              "outlinewidth": 0,
              "ticks": ""
             }
            },
            "marker": {
             "colorbar": {
              "outlinewidth": 0,
              "ticks": ""
             }
            },
            "type": "scatter3d"
           }
          ],
          "scattercarpet": [
           {
            "marker": {
             "colorbar": {
              "outlinewidth": 0,
              "ticks": ""
             }
            },
            "type": "scattercarpet"
           }
          ],
          "scattergeo": [
           {
            "marker": {
             "colorbar": {
              "outlinewidth": 0,
              "ticks": ""
             }
            },
            "type": "scattergeo"
           }
          ],
          "scattergl": [
           {
            "marker": {
             "colorbar": {
              "outlinewidth": 0,
              "ticks": ""
             }
            },
            "type": "scattergl"
           }
          ],
          "scattermapbox": [
           {
            "marker": {
             "colorbar": {
              "outlinewidth": 0,
              "ticks": ""
             }
            },
            "type": "scattermapbox"
           }
          ],
          "scatterpolar": [
           {
            "marker": {
             "colorbar": {
              "outlinewidth": 0,
              "ticks": ""
             }
            },
            "type": "scatterpolar"
           }
          ],
          "scatterpolargl": [
           {
            "marker": {
             "colorbar": {
              "outlinewidth": 0,
              "ticks": ""
             }
            },
            "type": "scatterpolargl"
           }
          ],
          "scatterternary": [
           {
            "marker": {
             "colorbar": {
              "outlinewidth": 0,
              "ticks": ""
             }
            },
            "type": "scatterternary"
           }
          ],
          "surface": [
           {
            "colorbar": {
             "outlinewidth": 0,
             "ticks": ""
            },
            "colorscale": [
             [
              0,
              "#0d0887"
             ],
             [
              0.1111111111111111,
              "#46039f"
             ],
             [
              0.2222222222222222,
              "#7201a8"
             ],
             [
              0.3333333333333333,
              "#9c179e"
             ],
             [
              0.4444444444444444,
              "#bd3786"
             ],
             [
              0.5555555555555556,
              "#d8576b"
             ],
             [
              0.6666666666666666,
              "#ed7953"
             ],
             [
              0.7777777777777778,
              "#fb9f3a"
             ],
             [
              0.8888888888888888,
              "#fdca26"
             ],
             [
              1,
              "#f0f921"
             ]
            ],
            "type": "surface"
           }
          ],
          "table": [
           {
            "cells": {
             "fill": {
              "color": "#EBF0F8"
             },
             "line": {
              "color": "white"
             }
            },
            "header": {
             "fill": {
              "color": "#C8D4E3"
             },
             "line": {
              "color": "white"
             }
            },
            "type": "table"
           }
          ]
         },
         "layout": {
          "annotationdefaults": {
           "arrowcolor": "#2a3f5f",
           "arrowhead": 0,
           "arrowwidth": 1
          },
          "autotypenumbers": "strict",
          "coloraxis": {
           "colorbar": {
            "outlinewidth": 0,
            "ticks": ""
           }
          },
          "colorscale": {
           "diverging": [
            [
             0,
             "#8e0152"
            ],
            [
             0.1,
             "#c51b7d"
            ],
            [
             0.2,
             "#de77ae"
            ],
            [
             0.3,
             "#f1b6da"
            ],
            [
             0.4,
             "#fde0ef"
            ],
            [
             0.5,
             "#f7f7f7"
            ],
            [
             0.6,
             "#e6f5d0"
            ],
            [
             0.7,
             "#b8e186"
            ],
            [
             0.8,
             "#7fbc41"
            ],
            [
             0.9,
             "#4d9221"
            ],
            [
             1,
             "#276419"
            ]
           ],
           "sequential": [
            [
             0,
             "#0d0887"
            ],
            [
             0.1111111111111111,
             "#46039f"
            ],
            [
             0.2222222222222222,
             "#7201a8"
            ],
            [
             0.3333333333333333,
             "#9c179e"
            ],
            [
             0.4444444444444444,
             "#bd3786"
            ],
            [
             0.5555555555555556,
             "#d8576b"
            ],
            [
             0.6666666666666666,
             "#ed7953"
            ],
            [
             0.7777777777777778,
             "#fb9f3a"
            ],
            [
             0.8888888888888888,
             "#fdca26"
            ],
            [
             1,
             "#f0f921"
            ]
           ],
           "sequentialminus": [
            [
             0,
             "#0d0887"
            ],
            [
             0.1111111111111111,
             "#46039f"
            ],
            [
             0.2222222222222222,
             "#7201a8"
            ],
            [
             0.3333333333333333,
             "#9c179e"
            ],
            [
             0.4444444444444444,
             "#bd3786"
            ],
            [
             0.5555555555555556,
             "#d8576b"
            ],
            [
             0.6666666666666666,
             "#ed7953"
            ],
            [
             0.7777777777777778,
             "#fb9f3a"
            ],
            [
             0.8888888888888888,
             "#fdca26"
            ],
            [
             1,
             "#f0f921"
            ]
           ]
          },
          "colorway": [
           "#636efa",
           "#EF553B",
           "#00cc96",
           "#ab63fa",
           "#FFA15A",
           "#19d3f3",
           "#FF6692",
           "#B6E880",
           "#FF97FF",
           "#FECB52"
          ],
          "font": {
           "color": "#2a3f5f"
          },
          "geo": {
           "bgcolor": "white",
           "lakecolor": "white",
           "landcolor": "#E5ECF6",
           "showlakes": true,
           "showland": true,
           "subunitcolor": "white"
          },
          "hoverlabel": {
           "align": "left"
          },
          "hovermode": "closest",
          "mapbox": {
           "style": "light"
          },
          "paper_bgcolor": "white",
          "plot_bgcolor": "#E5ECF6",
          "polar": {
           "angularaxis": {
            "gridcolor": "white",
            "linecolor": "white",
            "ticks": ""
           },
           "bgcolor": "#E5ECF6",
           "radialaxis": {
            "gridcolor": "white",
            "linecolor": "white",
            "ticks": ""
           }
          },
          "scene": {
           "xaxis": {
            "backgroundcolor": "#E5ECF6",
            "gridcolor": "white",
            "gridwidth": 2,
            "linecolor": "white",
            "showbackground": true,
            "ticks": "",
            "zerolinecolor": "white"
           },
           "yaxis": {
            "backgroundcolor": "#E5ECF6",
            "gridcolor": "white",
            "gridwidth": 2,
            "linecolor": "white",
            "showbackground": true,
            "ticks": "",
            "zerolinecolor": "white"
           },
           "zaxis": {
            "backgroundcolor": "#E5ECF6",
            "gridcolor": "white",
            "gridwidth": 2,
            "linecolor": "white",
            "showbackground": true,
            "ticks": "",
            "zerolinecolor": "white"
           }
          },
          "shapedefaults": {
           "line": {
            "color": "#2a3f5f"
           }
          },
          "ternary": {
           "aaxis": {
            "gridcolor": "white",
            "linecolor": "white",
            "ticks": ""
           },
           "baxis": {
            "gridcolor": "white",
            "linecolor": "white",
            "ticks": ""
           },
           "bgcolor": "#E5ECF6",
           "caxis": {
            "gridcolor": "white",
            "linecolor": "white",
            "ticks": ""
           }
          },
          "title": {
           "x": 0.05
          },
          "xaxis": {
           "automargin": true,
           "gridcolor": "white",
           "linecolor": "white",
           "ticks": "",
           "title": {
            "standoff": 15
           },
           "zerolinecolor": "white",
           "zerolinewidth": 2
          },
          "yaxis": {
           "automargin": true,
           "gridcolor": "white",
           "linecolor": "white",
           "ticks": "",
           "title": {
            "standoff": 15
           },
           "zerolinecolor": "white",
           "zerolinewidth": 2
          }
         }
        },
        "xaxis": {
         "anchor": "y",
         "domain": [
          0,
          1
         ],
         "title": {
          "text": "D"
         }
        },
        "yaxis": {
         "anchor": "x",
         "domain": [
          0,
          1
         ],
         "title": {
          "text": "KA"
         }
        }
       }
      }
     },
     "metadata": {},
     "output_type": "display_data"
    }
   ],
   "source": [
    "import plotly.express as px\n",
    "\n",
    "fig = px.scatter(meiko_on_matches, y=\"KA\", x=\"D\", color=\"player\", symbol=\"Result\",)\n",
    "fig.update_traces(marker_size=10)\n",
    "fig.show()"
   ]
  },
  {
   "cell_type": "code",
   "execution_count": 21,
   "id": "f5a9e10c",
   "metadata": {},
   "outputs": [
    {
     "data": {
      "image/png": "[encoded data removed]",
      "text/plain": [
       "<Figure size 1000x600 with 1 Axes>"
      ]
     },
     "metadata": {},
     "output_type": "display_data"
    }
   ],
   "source": [
    "import seaborn as sns\n",
    "import matplotlib.pyplot as plt\n",
    "\n",
    "# KA = K + A\n",
    "meiko_on_matches[\"KA\"] = meiko_on_matches[\"K\"] + meiko_on_matches[\"A\"]\n",
    "\n",
    "plt.figure(figsize=(10, 6))\n",
    "\n",
    "# Plot points\n",
    "sns.scatterplot(\n",
    "    data=meiko_on_matches,\n",
    "    x=\"D\", y=\"KA\",\n",
    "    hue=\"player\", style=\"Result\",\n",
    "    palette=\"Set1\",\n",
    "    markers={\"Victory\": \"o\", \"Defeat\": \"^\"},\n",
    "    s=100,\n",
    "    alpha=0.8\n",
    ")\n",
    "\n",
    "# Regression lines per player\n",
    "colors = {\"ON\": \"#ff7f0e\", \"meiko\": \"#1f77b4\"}  # Same as palette\n",
    "for player in meiko_on_matches[\"player\"].unique():\n",
    "    sns.regplot(\n",
    "        data=meiko_on_matches[meiko_on_matches[\"player\"] == player],\n",
    "        x=\"D\", y=\"KA\",\n",
    "        scatter=False,\n",
    "        label=f\"{player} regression\",\n",
    "        color=colors[player],\n",
    "        line_kws={\"linewidth\": 2.5}\n",
    "    )\n",
    "\n",
    "# Title and labels\n",
    "plt.title(\"KDA with Regression Lines\", fontsize=16,)\n",
    "# plt.suptitle(\"Each point represents one game; KA = Kills + Assists\", fontsize=10, y=0.92)\n",
    "plt.xlabel(\"Deaths\", fontsize=12)\n",
    "plt.ylabel(\"Kills + Assists (KA)\", fontsize=12)\n",
    "\n",
    "# Legend tweaks\n",
    "plt.legend(title=\"\", loc=\"upper left\", bbox_to_anchor=(1, 1))\n",
    "plt.grid(True, linestyle=\"--\", alpha=0.3)\n",
    "plt.tight_layout()\n",
    "plt.show()\n"
   ]
  },
  {
   "cell_type": "code",
   "execution_count": 23,
   "id": "bbba6d10",
   "metadata": {},
   "outputs": [
    {
     "data": {
      "text/plain": [
       "Text(0.5, 1.0, 'KDA Distribution by Player and Result')"
      ]
     },
     "execution_count": 23,
     "metadata": {},
     "output_type": "execute_result"
    },
    {
     "data": {
      "image/png": "[encoded data removed]",
      "text/plain": [
       "<Figure size 640x480 with 1 Axes>"
      ]
     },
     "metadata": {},
     "output_type": "display_data"
    }
   ],
   "source": [
    "import seaborn as sns\n",
    "import matplotlib.pyplot as plt\n",
    "meiko_on_matches[\"KDA\"] = (meiko_on_matches[\"KA\"] / meiko_on_matches[\"D\"].replace(0, np.nan))  # Handle div-by-zero\n",
    "\n",
    "sns.boxplot(data=meiko_on_matches, x=\"player\", y=\"KDA\", hue=\"Result\")\n",
    "plt.title(\"KDA Distribution by Player and Result\")"
   ]
  },
  {
   "cell_type": "code",
   "execution_count": 71,
   "id": "5a43e333",
   "metadata": {},
   "outputs": [
    {
     "name": "stderr",
     "output_type": "stream",
     "text": [
      "C:\\Users\\Yangge Xu\\AppData\\Local\\Temp\\ipykernel_9228\\193533867.py:1: DeprecationWarning:\n",
      "\n",
      "DataFrameGroupBy.apply operated on the grouping columns. This behavior is deprecated, and in a future version of pandas the grouping columns will be excluded from the operation. Either pass `include_groups=False` to exclude the groupings or explicitly select the grouping columns after groupby to silence this warning.\n",
      "\n"
     ]
    }
   ],
   "source": [
    "summary = meiko_on_matches.groupby([\"player\", \"Champion\"]).apply(\n",
    "    lambda group: pd.Series({\n",
    "        \"总局数\": int(group[\"Duration\"].count()),\n",
    "        \"胜局数\": int((group[\"Result\"] == \"Victory\").sum()),\n",
    "        \"胜率\": (group[\"Result\"] == \"Victory\").mean().round(2),\n",
    "        \"平均KDA\": ((group[\"K\"].sum() + group[\"A\"].sum()) / group[\"D\"].sum()).round(2)\n",
    "                    if group[\"D\"].sum() > 0 else float(\"inf\")\n",
    "    })\n",
    ").reset_index()\n"
   ]
  },
  {
   "cell_type": "code",
   "execution_count": 59,
   "id": "7db47890",
   "metadata": {},
   "outputs": [
    {
     "data": {
      "text/plain": [
       "MultiIndex([('Champion',      ''),\n",
       "            (     '总局数',    'ON'),\n",
       "            (     '总局数', 'meiko'),\n",
       "            (     '胜局数',    'ON'),\n",
       "            (     '胜局数', 'meiko'),\n",
       "            (      '胜率',    'ON'),\n",
       "            (      '胜率', 'meiko'),\n",
       "            (   '平均KDA',    'ON'),\n",
       "            (   '平均KDA', 'meiko')],\n",
       "           names=[None, 'player'])"
      ]
     },
     "execution_count": 59,
     "metadata": {},
     "output_type": "execute_result"
    }
   ],
   "source": [
    "pivot_all.columns"
   ]
  },
  {
   "cell_type": "code",
   "execution_count": 69,
   "id": "75004969",
   "metadata": {},
   "outputs": [
    {
     "data": {
      "text/plain": [
       "Champion\n",
       "Rakan           7\n",
       "Rell            6\n",
       "Leona           5\n",
       "Nautilus        5\n",
       "Renata Glasc    5\n",
       "Karma           2\n",
       "Nami            2\n",
       "Thresh          2\n",
       "Ashe            1\n",
       "Blitzcrank      1\n",
       "Camille         1\n",
       "Kalista         1\n",
       "Lux             1\n",
       "Neeko           1\n",
       "Ornn            1\n",
       "Name: count, dtype: int64"
      ]
     },
     "execution_count": 69,
     "metadata": {},
     "output_type": "execute_result"
    }
   ],
   "source": [
    "meiko_on_matches[meiko_on_matches[\"player\"] == \"ON\"].value_counts(\"Champion\")"
   ]
  },
  {
   "cell_type": "code",
   "execution_count": 93,
   "id": "9ad3e8ae",
   "metadata": {},
   "outputs": [],
   "source": [
    "pivot_all = summary.set_index([\"Champion\", \"player\"]).unstack(\"player\")\n",
    "champ_map_nickname = {\n",
    "    \"Alistar\": \"牛头\",\n",
    "    \"Ashe\": \"寒冰\",\n",
    "    \"Blitzcrank\": \"机器人\",\n",
    "    \"Braum\": \"布隆\",\n",
    "    \"Camille\": \"卡密尔\",\n",
    "    \"Heimerdinger\": \"大头\",\n",
    "    \"Kalista\": \"卡莉斯塔\",\n",
    "    \"Karma\": \"卡尔玛\",\n",
    "    \"Leona\": \"日女\",\n",
    "    \"Lulu\": \"璐璐\",\n",
    "    \"Lux\": \"拉克丝\",\n",
    "    \"Nami\": \"娜美\",\n",
    "    \"Nautilus\": \"泰坦\",\n",
    "    \"Neeko\": \"妮蔻\",\n",
    "    \"Ornn\": \"奥恩\",\n",
    "    \"Rakan\": \"洛\",\n",
    "    \"Rell\": \"瑞尔\",\n",
    "    \"Renata Glasc\": \"列娜塔\",\n",
    "    \"Seraphine\": \"萨勒芬妮\",\n",
    "    \"Soraka\": \"索拉卡\",\n",
    "    \"Tahm Kench\": \"塔姆\",\n",
    "    \"Thresh\": \"锤石\",\n",
    "    \"Yuumi\": \"猫咪\",\n",
    "    \"Zilean\": \"时光\"\n",
    "}\n",
    "\n",
    "pivot_all = pivot_all.rename(index=champ_map_nickname)  # 如果英雄名在 index 中\n",
    "# # 或者：\n",
    "# df[\"Champion\"] = df[\"Champion\"].replace(champ_map)  # 如果英雄在列中\n"
   ]
  },
  {
   "cell_type": "code",
   "execution_count": null,
   "id": "d18ac099",
   "metadata": {},
   "outputs": [],
   "source": []
  },
  {
   "cell_type": "code",
   "execution_count": 90,
   "id": "565c5d0a",
   "metadata": {},
   "outputs": [
    {
     "data": {
      "text/html": [
       "<div>\n",
       "<style scoped>\n",
       "    .dataframe tbody tr th:only-of-type {\n",
       "        vertical-align: middle;\n",
       "    }\n",
       "\n",
       "    .dataframe tbody tr th {\n",
       "        vertical-align: top;\n",
       "    }\n",
       "\n",
       "    .dataframe thead tr th {\n",
       "        text-align: left;\n",
       "    }\n",
       "</style>\n",
       "<table border=\"1\" class=\"dataframe\">\n",
       "  <thead>\n",
       "    <tr>\n",
       "      <th></th>\n",
       "      <th>Champion</th>\n",
       "      <th colspan=\"2\" halign=\"left\">总局数</th>\n",
       "      <th colspan=\"2\" halign=\"left\">胜局数</th>\n",
       "      <th colspan=\"2\" halign=\"left\">胜率</th>\n",
       "      <th colspan=\"2\" halign=\"left\">平均KDA</th>\n",
       "    </tr>\n",
       "    <tr>\n",
       "      <th>player</th>\n",
       "      <th></th>\n",
       "      <th>ON</th>\n",
       "      <th>meiko</th>\n",
       "      <th>ON</th>\n",
       "      <th>meiko</th>\n",
       "      <th>ON</th>\n",
       "      <th>meiko</th>\n",
       "      <th>ON</th>\n",
       "      <th>meiko</th>\n",
       "    </tr>\n",
       "  </thead>\n",
       "  <tbody>\n",
       "    <tr>\n",
       "      <th>12</th>\n",
       "      <td>泰坦</td>\n",
       "      <td>5.0</td>\n",
       "      <td>7.0</td>\n",
       "      <td>3.0</td>\n",
       "      <td>4.0</td>\n",
       "      <td>0.60</td>\n",
       "      <td>0.57</td>\n",
       "      <td>3.00</td>\n",
       "      <td>2.38</td>\n",
       "    </tr>\n",
       "    <tr>\n",
       "      <th>15</th>\n",
       "      <td>洛</td>\n",
       "      <td>7.0</td>\n",
       "      <td>4.0</td>\n",
       "      <td>5.0</td>\n",
       "      <td>0.0</td>\n",
       "      <td>0.71</td>\n",
       "      <td>0.00</td>\n",
       "      <td>4.73</td>\n",
       "      <td>2.53</td>\n",
       "    </tr>\n",
       "    <tr>\n",
       "      <th>21</th>\n",
       "      <td>锤石</td>\n",
       "      <td>2.0</td>\n",
       "      <td>4.0</td>\n",
       "      <td>2.0</td>\n",
       "      <td>1.0</td>\n",
       "      <td>1.00</td>\n",
       "      <td>0.25</td>\n",
       "      <td>5.67</td>\n",
       "      <td>2.94</td>\n",
       "    </tr>\n",
       "    <tr>\n",
       "      <th>7</th>\n",
       "      <td>卡尔玛</td>\n",
       "      <td>2.0</td>\n",
       "      <td>3.0</td>\n",
       "      <td>0.0</td>\n",
       "      <td>1.0</td>\n",
       "      <td>0.00</td>\n",
       "      <td>0.33</td>\n",
       "      <td>0.78</td>\n",
       "      <td>1.30</td>\n",
       "    </tr>\n",
       "    <tr>\n",
       "      <th>14</th>\n",
       "      <td>奥恩</td>\n",
       "      <td>1.0</td>\n",
       "      <td>3.0</td>\n",
       "      <td>1.0</td>\n",
       "      <td>1.0</td>\n",
       "      <td>1.00</td>\n",
       "      <td>0.33</td>\n",
       "      <td>7.50</td>\n",
       "      <td>2.08</td>\n",
       "    </tr>\n",
       "    <tr>\n",
       "      <th>11</th>\n",
       "      <td>娜美</td>\n",
       "      <td>2.0</td>\n",
       "      <td>2.0</td>\n",
       "      <td>1.0</td>\n",
       "      <td>1.0</td>\n",
       "      <td>0.50</td>\n",
       "      <td>0.50</td>\n",
       "      <td>8.50</td>\n",
       "      <td>2.80</td>\n",
       "    </tr>\n",
       "    <tr>\n",
       "      <th>17</th>\n",
       "      <td>列娜塔</td>\n",
       "      <td>5.0</td>\n",
       "      <td>2.0</td>\n",
       "      <td>3.0</td>\n",
       "      <td>1.0</td>\n",
       "      <td>0.60</td>\n",
       "      <td>0.50</td>\n",
       "      <td>6.00</td>\n",
       "      <td>1.71</td>\n",
       "    </tr>\n",
       "    <tr>\n",
       "      <th>1</th>\n",
       "      <td>寒冰</td>\n",
       "      <td>1.0</td>\n",
       "      <td>1.0</td>\n",
       "      <td>1.0</td>\n",
       "      <td>1.0</td>\n",
       "      <td>1.00</td>\n",
       "      <td>1.00</td>\n",
       "      <td>13.00</td>\n",
       "      <td>4.25</td>\n",
       "    </tr>\n",
       "    <tr>\n",
       "      <th>8</th>\n",
       "      <td>日女</td>\n",
       "      <td>5.0</td>\n",
       "      <td>1.0</td>\n",
       "      <td>3.0</td>\n",
       "      <td>1.0</td>\n",
       "      <td>0.60</td>\n",
       "      <td>1.00</td>\n",
       "      <td>1.73</td>\n",
       "      <td>6.67</td>\n",
       "    </tr>\n",
       "  </tbody>\n",
       "</table>\n",
       "</div>"
      ],
      "text/plain": [
       "       Champion  总局数        胜局数          胜率        平均KDA      \n",
       "player            ON meiko   ON meiko    ON meiko     ON meiko\n",
       "12           泰坦  5.0   7.0  3.0   4.0  0.60  0.57   3.00  2.38\n",
       "15            洛  7.0   4.0  5.0   0.0  0.71  0.00   4.73  2.53\n",
       "21           锤石  2.0   4.0  2.0   1.0  1.00  0.25   5.67  2.94\n",
       "7           卡尔玛  2.0   3.0  0.0   1.0  0.00  0.33   0.78  1.30\n",
       "14           奥恩  1.0   3.0  1.0   1.0  1.00  0.33   7.50  2.08\n",
       "11           娜美  2.0   2.0  1.0   1.0  0.50  0.50   8.50  2.80\n",
       "17          列娜塔  5.0   2.0  3.0   1.0  0.60  0.50   6.00  1.71\n",
       "1            寒冰  1.0   1.0  1.0   1.0  1.00  1.00  13.00  4.25\n",
       "8            日女  5.0   1.0  3.0   1.0  0.60  1.00   1.73  6.67"
      ]
     },
     "execution_count": 90,
     "metadata": {},
     "output_type": "execute_result"
    }
   ],
   "source": [
    "# pivot_all = summary.set_index([\"Champion\", \"player\"]).unstack(\"player\")\n",
    "# pivot_all.columns = [f\"{metric}_{player}\" for metric, player in pivot_all.columns]\n",
    "pivot_all = pivot_all.reset_index().dropna()\n",
    "\n",
    "pivot_all.sort_values(by=(     '总局数',    'meiko'), ascending=False)"
   ]
  },
  {
   "cell_type": "code",
   "execution_count": 96,
   "id": "f4074bb4",
   "metadata": {},
   "outputs": [
    {
     "data": {
      "text/html": [
       "<div>\n",
       "<style scoped>\n",
       "    .dataframe tbody tr th:only-of-type {\n",
       "        vertical-align: middle;\n",
       "    }\n",
       "\n",
       "    .dataframe tbody tr th {\n",
       "        vertical-align: top;\n",
       "    }\n",
       "\n",
       "    .dataframe thead th {\n",
       "        text-align: right;\n",
       "    }\n",
       "</style>\n",
       "<table border=\"1\" class=\"dataframe\">\n",
       "  <thead>\n",
       "    <tr style=\"text-align: right;\">\n",
       "      <th></th>\n",
       "      <th>总局数_ON</th>\n",
       "      <th>总局数_meiko</th>\n",
       "      <th>胜局数_ON</th>\n",
       "      <th>胜局数_meiko</th>\n",
       "      <th>胜率_ON</th>\n",
       "      <th>胜率_meiko</th>\n",
       "      <th>平均KDA_ON</th>\n",
       "      <th>平均KDA_meiko</th>\n",
       "    </tr>\n",
       "    <tr>\n",
       "      <th>Champion</th>\n",
       "      <th></th>\n",
       "      <th></th>\n",
       "      <th></th>\n",
       "      <th></th>\n",
       "      <th></th>\n",
       "      <th></th>\n",
       "      <th></th>\n",
       "      <th></th>\n",
       "    </tr>\n",
       "  </thead>\n",
       "  <tbody>\n",
       "    <tr>\n",
       "      <th>机器人</th>\n",
       "      <td>1.0</td>\n",
       "      <td>NaN</td>\n",
       "      <td>0.0</td>\n",
       "      <td>NaN</td>\n",
       "      <td>0.00</td>\n",
       "      <td>NaN</td>\n",
       "      <td>1.00</td>\n",
       "      <td>NaN</td>\n",
       "    </tr>\n",
       "    <tr>\n",
       "      <th>卡莉斯塔</th>\n",
       "      <td>1.0</td>\n",
       "      <td>NaN</td>\n",
       "      <td>0.0</td>\n",
       "      <td>NaN</td>\n",
       "      <td>0.00</td>\n",
       "      <td>NaN</td>\n",
       "      <td>1.78</td>\n",
       "      <td>NaN</td>\n",
       "    </tr>\n",
       "    <tr>\n",
       "      <th>卡尔玛</th>\n",
       "      <td>2.0</td>\n",
       "      <td>3.0</td>\n",
       "      <td>0.0</td>\n",
       "      <td>1.0</td>\n",
       "      <td>0.00</td>\n",
       "      <td>0.33</td>\n",
       "      <td>0.78</td>\n",
       "      <td>1.30</td>\n",
       "    </tr>\n",
       "    <tr>\n",
       "      <th>拉克丝</th>\n",
       "      <td>1.0</td>\n",
       "      <td>NaN</td>\n",
       "      <td>0.0</td>\n",
       "      <td>NaN</td>\n",
       "      <td>0.00</td>\n",
       "      <td>NaN</td>\n",
       "      <td>1.00</td>\n",
       "      <td>NaN</td>\n",
       "    </tr>\n",
       "    <tr>\n",
       "      <th>洛</th>\n",
       "      <td>7.0</td>\n",
       "      <td>4.0</td>\n",
       "      <td>5.0</td>\n",
       "      <td>0.0</td>\n",
       "      <td>0.71</td>\n",
       "      <td>0.00</td>\n",
       "      <td>4.73</td>\n",
       "      <td>2.53</td>\n",
       "    </tr>\n",
       "    <tr>\n",
       "      <th>萨勒芬妮</th>\n",
       "      <td>NaN</td>\n",
       "      <td>1.0</td>\n",
       "      <td>NaN</td>\n",
       "      <td>0.0</td>\n",
       "      <td>NaN</td>\n",
       "      <td>0.00</td>\n",
       "      <td>NaN</td>\n",
       "      <td>1.67</td>\n",
       "    </tr>\n",
       "    <tr>\n",
       "      <th>索拉卡</th>\n",
       "      <td>NaN</td>\n",
       "      <td>1.0</td>\n",
       "      <td>NaN</td>\n",
       "      <td>0.0</td>\n",
       "      <td>NaN</td>\n",
       "      <td>0.00</td>\n",
       "      <td>NaN</td>\n",
       "      <td>1.67</td>\n",
       "    </tr>\n",
       "    <tr>\n",
       "      <th>塔姆</th>\n",
       "      <td>NaN</td>\n",
       "      <td>1.0</td>\n",
       "      <td>NaN</td>\n",
       "      <td>0.0</td>\n",
       "      <td>NaN</td>\n",
       "      <td>0.00</td>\n",
       "      <td>NaN</td>\n",
       "      <td>2.25</td>\n",
       "    </tr>\n",
       "    <tr>\n",
       "      <th>时光</th>\n",
       "      <td>NaN</td>\n",
       "      <td>1.0</td>\n",
       "      <td>NaN</td>\n",
       "      <td>0.0</td>\n",
       "      <td>NaN</td>\n",
       "      <td>0.00</td>\n",
       "      <td>NaN</td>\n",
       "      <td>1.33</td>\n",
       "    </tr>\n",
       "  </tbody>\n",
       "</table>\n",
       "</div>"
      ],
      "text/plain": [
       "          总局数_ON  总局数_meiko  胜局数_ON  胜局数_meiko  胜率_ON  胜率_meiko  平均KDA_ON  \\\n",
       "Champion                                                                    \n",
       "机器人          1.0        NaN     0.0        NaN   0.00       NaN      1.00   \n",
       "卡莉斯塔         1.0        NaN     0.0        NaN   0.00       NaN      1.78   \n",
       "卡尔玛          2.0        3.0     0.0        1.0   0.00      0.33      0.78   \n",
       "拉克丝          1.0        NaN     0.0        NaN   0.00       NaN      1.00   \n",
       "洛            7.0        4.0     5.0        0.0   0.71      0.00      4.73   \n",
       "萨勒芬妮         NaN        1.0     NaN        0.0    NaN      0.00       NaN   \n",
       "索拉卡          NaN        1.0     NaN        0.0    NaN      0.00       NaN   \n",
       "塔姆           NaN        1.0     NaN        0.0    NaN      0.00       NaN   \n",
       "时光           NaN        1.0     NaN        0.0    NaN      0.00       NaN   \n",
       "\n",
       "          平均KDA_meiko  \n",
       "Champion               \n",
       "机器人               NaN  \n",
       "卡莉斯塔              NaN  \n",
       "卡尔玛              1.30  \n",
       "拉克丝               NaN  \n",
       "洛                2.53  \n",
       "萨勒芬妮             1.67  \n",
       "索拉卡              1.67  \n",
       "塔姆               2.25  \n",
       "时光               1.33  "
      ]
     },
     "execution_count": 96,
     "metadata": {},
     "output_type": "execute_result"
    }
   ],
   "source": [
    "# pivot_all = summary.set_index([\"Champion\", \"player\"]).unstack(\"player\")\n",
    "# pivot_all.columns = [f\"{metric}_{player}\" for metric, player in pivot_all.columns]\n",
    "pivot_all[(pivot_all[\"胜局数_ON\"] == 0) | (pivot_all[\"胜局数_meiko\"] == 0)]"
   ]
  },
  {
   "cell_type": "code",
   "execution_count": 87,
   "id": "2d5c9df9",
   "metadata": {},
   "outputs": [
    {
     "data": {
      "text/html": [
       "<div>\n",
       "<style scoped>\n",
       "    .dataframe tbody tr th:only-of-type {\n",
       "        vertical-align: middle;\n",
       "    }\n",
       "\n",
       "    .dataframe tbody tr th {\n",
       "        vertical-align: top;\n",
       "    }\n",
       "\n",
       "    .dataframe thead th {\n",
       "        text-align: right;\n",
       "    }\n",
       "</style>\n",
       "<table border=\"1\" class=\"dataframe\">\n",
       "  <thead>\n",
       "    <tr style=\"text-align: right;\">\n",
       "      <th></th>\n",
       "      <th>总局数_ON</th>\n",
       "      <th>胜率_ON</th>\n",
       "    </tr>\n",
       "    <tr>\n",
       "      <th>Champion</th>\n",
       "      <th></th>\n",
       "      <th></th>\n",
       "    </tr>\n",
       "  </thead>\n",
       "  <tbody>\n",
       "    <tr>\n",
       "      <th>机器人</th>\n",
       "      <td>1.0</td>\n",
       "      <td>0.00</td>\n",
       "    </tr>\n",
       "    <tr>\n",
       "      <th>卡密尔</th>\n",
       "      <td>1.0</td>\n",
       "      <td>1.00</td>\n",
       "    </tr>\n",
       "    <tr>\n",
       "      <th>卡莉斯塔</th>\n",
       "      <td>1.0</td>\n",
       "      <td>0.00</td>\n",
       "    </tr>\n",
       "    <tr>\n",
       "      <th>拉克丝</th>\n",
       "      <td>1.0</td>\n",
       "      <td>0.00</td>\n",
       "    </tr>\n",
       "    <tr>\n",
       "      <th>妮蔻</th>\n",
       "      <td>1.0</td>\n",
       "      <td>1.00</td>\n",
       "    </tr>\n",
       "    <tr>\n",
       "      <th>瑞尔</th>\n",
       "      <td>6.0</td>\n",
       "      <td>0.33</td>\n",
       "    </tr>\n",
       "  </tbody>\n",
       "</table>\n",
       "</div>"
      ],
      "text/plain": [
       "          总局数_ON  胜率_ON\n",
       "Champion               \n",
       "机器人          1.0   0.00\n",
       "卡密尔          1.0   1.00\n",
       "卡莉斯塔         1.0   0.00\n",
       "拉克丝          1.0   0.00\n",
       "妮蔻           1.0   1.00\n",
       "瑞尔           6.0   0.33"
      ]
     },
     "execution_count": 87,
     "metadata": {},
     "output_type": "execute_result"
    }
   ],
   "source": [
    "pivot_all[pivot_all[\"总局数_meiko\"].isna()][[\"总局数_ON\",\"胜率_ON\"]]"
   ]
  },
  {
   "cell_type": "code",
   "execution_count": 102,
   "id": "62180dc3",
   "metadata": {},
   "outputs": [
    {
     "data": {
      "text/html": [
       "<div>\n",
       "<style scoped>\n",
       "    .dataframe tbody tr th:only-of-type {\n",
       "        vertical-align: middle;\n",
       "    }\n",
       "\n",
       "    .dataframe tbody tr th {\n",
       "        vertical-align: top;\n",
       "    }\n",
       "\n",
       "    .dataframe thead th {\n",
       "        text-align: right;\n",
       "    }\n",
       "</style>\n",
       "<table border=\"1\" class=\"dataframe\">\n",
       "  <thead>\n",
       "    <tr style=\"text-align: right;\">\n",
       "      <th></th>\n",
       "      <th>player</th>\n",
       "      <th>Result</th>\n",
       "      <th>duration_minutes</th>\n",
       "    </tr>\n",
       "  </thead>\n",
       "  <tbody>\n",
       "    <tr>\n",
       "      <th>0</th>\n",
       "      <td>ON</td>\n",
       "      <td>Defeat</td>\n",
       "      <td>601.733333</td>\n",
       "    </tr>\n",
       "    <tr>\n",
       "      <th>1</th>\n",
       "      <td>ON</td>\n",
       "      <td>Victory</td>\n",
       "      <td>729.716667</td>\n",
       "    </tr>\n",
       "    <tr>\n",
       "      <th>2</th>\n",
       "      <td>meiko</td>\n",
       "      <td>Defeat</td>\n",
       "      <td>729.716667</td>\n",
       "    </tr>\n",
       "    <tr>\n",
       "      <th>3</th>\n",
       "      <td>meiko</td>\n",
       "      <td>Victory</td>\n",
       "      <td>601.733333</td>\n",
       "    </tr>\n",
       "  </tbody>\n",
       "</table>\n",
       "</div>"
      ],
      "text/plain": [
       "  player   Result  duration_minutes\n",
       "0     ON   Defeat        601.733333\n",
       "1     ON  Victory        729.716667\n",
       "2  meiko   Defeat        729.716667\n",
       "3  meiko  Victory        601.733333"
      ]
     },
     "execution_count": 102,
     "metadata": {},
     "output_type": "execute_result"
    }
   ],
   "source": [
    "meiko_on_matches.groupby([\"player\",\"Result\"])[\"duration_minutes\"].sum().reset_index()"
   ]
  }
 ],
 "metadata": {
  "kernelspec": {
   "display_name": "blank",
   "language": "python",
   "name": "python3"
  },
  "language_info": {
   "codemirror_mode": {
    "name": "ipython",
    "version": 3
   },
   "file_extension": ".py",
   "mimetype": "text/x-python",
   "name": "python",
   "nbconvert_exporter": "python",
   "pygments_lexer": "ipython3",
   "version": "3.12.8"
  }
 },
 "nbformat": 4,
 "nbformat_minor": 5
}
