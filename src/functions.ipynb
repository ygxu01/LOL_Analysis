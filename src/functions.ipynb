{
 "cells": [
  {
   "cell_type": "code",
   "execution_count": 2,
   "metadata": {},
   "outputs": [],
   "source": [
    "import numpy as np\n",
    "import pandas as pd\n",
    "\n",
    "from pathlib import Path\n",
    "from settings import config\n",
    "\n",
    "DATA_DIR = Path(config(\"DATA_DIR\"))\n",
    "MANUAL_DATA_DIR = Path(config(\"MANUAL_DATA_DIR\"))"
   ]
  },
  {
   "cell_type": "code",
   "execution_count": 18,
   "metadata": {},
   "outputs": [],
   "source": [
    "from pull_player_id import load_player_id_df, load_player_list\n",
    "\n",
    "player_id_df = load_player_id_df()\n",
    "    "
   ]
  },
  {
   "cell_type": "code",
   "execution_count": null,
   "metadata": {},
   "outputs": [
    {
     "data": {
      "text/plain": [
       "array(['1Jiang', '1xn', '369', 'AKi', 'Ale', 'Angel', 'Assum', 'Beichuan',\n",
       "       'Bin', 'Breathe', 'Care', 'Climber', 'Creme', 'Crisp', 'Cube',\n",
       "       'Doinb', 'Elk', 'Feather', 'Flandre', 'GALA', 'Haichao', 'Hang',\n",
       "       'Heng', 'Hery', 'Hope', 'Hoya', 'JackeyLove', 'JiaQi', 'Jiejie',\n",
       "       'Junhao', 'Jwei', 'Kael', 'Kanavi', 'Karis', 'Knight', 'Leave',\n",
       "       'Lele', 'Light', 'Linfeng', 'Missing', 'Moham', 'Monki', 'Niket',\n",
       "       'ON', 'Peyz', 'Photic', 'Ppgod', 'RooKie', 'Rosielove', 'Saber',\n",
       "       'Scout', 'SeTab', 'Shad0w', 'Shanks', 'Shaoye', 'Starry',\n",
       "       'Taeyoon', 'Tangyuan', 'Tarzan', 'TheShy', 'Tian', 'Tianzhen',\n",
       "       'Vampire', 'Wako', 'Wei', 'WeiWei', 'Wink', 'XUN', 'Xiaohao',\n",
       "       'Xiaoxu', 'Ycx', 'Zdz', 'Zhuo', 'Zika', 'bat', 'meiko', 'milkyway',\n",
       "       'sasi', 'shanji', 'sheer', 'sorrow', 'xiaohu', 'xqw', 'Aiming',\n",
       "       'Andil', 'Bdd', 'Berserker', 'BeryL', 'Bull', 'Bulldog', 'Canyon',\n",
       "       'Chovy', 'Clear', 'Clozer', 'Cuzz', 'Delight', 'Diable', 'Doran',\n",
       "       'DuDu', 'Duro', 'Faker', 'Fisher', 'GIDEON', 'Gumayusi', 'HamBak',\n",
       "       'Hype', 'Jiwoo', 'Kellin', 'Keria', 'Kiin', 'LazyFeel', 'Lehends',\n",
       "       'Life', 'Lucid', 'Morgan', 'Oner', 'Peanut', 'PerfecT', 'Pollu',\n",
       "       'Pungyeon', 'Pyosik', 'Raptor', 'Rich', 'Ruler', 'ShowMaker',\n",
       "       'Siwoo', 'Smash', 'Sponge', 'Teddy', 'Ucal', 'Vicla', 'Viper',\n",
       "       'Way', 'Zeka', 'Zeus', 'deokdam', 'kingen', 'Calix', 'Callme',\n",
       "       'Casting', 'DDoiV', 'Deft', 'DnDn', 'Effort', 'Envyy', 'Execute',\n",
       "       'FATE', 'FIESTA', 'Frog', 'GuGer', 'Guwon', 'Hena', 'Kyeahoo',\n",
       "       'Leaper', 'Mihile', 'Paduck', 'Peter', 'Pleata', 'Pullbae',\n",
       "       'Quantum', 'Rascal', 'Samver', 'Sylvie', 'Vital', 'Willer',\n",
       "       'YoungJae', '909', 'Able', 'Ahn', 'Burdol', 'Croco', 'Cryin',\n",
       "       'Decade', 'Doggo', 'FoFo', 'Geju', 'H4cker', 'Iwandy', 'Juice',\n",
       "       'Kepler', 'LP', 'Leyan', 'Lwx', 'Mark', 'Meteor', 'Ming', 'Moyan',\n",
       "       'Prince', 'Qingtian', 'Qiuqiu', 'ShiauC', 'Solokill', 'Stay',\n",
       "       'TheNiu', 'Thesnake', 'Wayward', 'Wen', 'XBY', 'XBear', 'XZZ',\n",
       "       'Xiamu', 'Xiaolaohu', 'YSKM', 'Yagao', 'Yanxiang', 'Youdang',\n",
       "       'Yuekai', 'ZUIAN', 'Zorah', 'glfs', 'huanfeng', 'jinjiao',\n",
       "       'naiyou', 'neny', 'xiaofang', 'xiaoyueji'], dtype=object)"
      ]
     },
     "execution_count": 21,
     "metadata": {},
     "output_type": "execute_result"
    }
   ],
   "source": [
    "import requests\n",
    "from bs4 import BeautifulSoup\n"
   ]
  },
  {
   "cell_type": "code",
   "execution_count": 2,
   "metadata": {},
   "outputs": [
    {
     "data": {
      "text/html": [
       "<div>\n",
       "<style scoped>\n",
       "    .dataframe tbody tr th:only-of-type {\n",
       "        vertical-align: middle;\n",
       "    }\n",
       "\n",
       "    .dataframe tbody tr th {\n",
       "        vertical-align: top;\n",
       "    }\n",
       "\n",
       "    .dataframe thead th {\n",
       "        text-align: right;\n",
       "    }\n",
       "</style>\n",
       "<table border=\"1\" class=\"dataframe\">\n",
       "  <thead>\n",
       "    <tr style=\"text-align: right;\">\n",
       "      <th></th>\n",
       "    </tr>\n",
       "  </thead>\n",
       "  <tbody>\n",
       "  </tbody>\n",
       "</table>\n",
       "</div>"
      ],
      "text/plain": [
       "Empty DataFrame\n",
       "Columns: []\n",
       "Index: []"
      ]
     },
     "execution_count": 2,
     "metadata": {},
     "output_type": "execute_result"
    }
   ],
   "source": [
    "from pull_player_id import load_player_id_df\n",
    "load_player_id_df()"
   ]
  },
  {
   "cell_type": "code",
   "execution_count": 7,
   "metadata": {},
   "outputs": [
    {
     "name": "stdout",
     "output_type": "stream",
     "text": [
      "There are 216 players.\n"
     ]
    }
   ],
   "source": [
    "import pandas as pd\n",
    "path =  \"../data_manual/player_list_S14-15.csv\"\n",
    "df = pd.read_csv(path)[[\"Player\",\"Season\"]]\n",
    "unique_players = df[\"Player\"].unique()\n",
    "print(f\"There are {len(unique_players)} players.\")"
   ]
  },
  {
   "cell_type": "code",
   "execution_count": 15,
   "metadata": {},
   "outputs": [],
   "source": [
    "from pathlib import Path\n",
    "from settings import config\n",
    "MANUAL_DATA_DIR = Path(config(\"MANUAL_DATA_DIR\"))"
   ]
  },
  {
   "cell_type": "code",
   "execution_count": 24,
   "metadata": {},
   "outputs": [],
   "source": [
    "from openpyxl import load_workbook\n",
    "from pathlib import Path\n",
    "from settings import config\n",
    "\n",
    "MANUAL_DATA_DIR = Path(config(\"MANUAL_DATA_DIR\"))\n",
    "excel_path = MANUAL_DATA_DIR / \"player_list_S14-15.xlsx\"\n",
    "\n",
    "# Load workbook and sheet\n",
    "wb = load_workbook(excel_path, data_only=True)\n",
    "sheet = wb.active\n",
    "\n",
    "# Assuming first row is header\n",
    "player_data = []\n",
    "for row in sheet.iter_rows(min_row=2):  # skip header\n",
    "    cell = row[0]  # column A = \"Player\"\n",
    "    player_name = cell.value\n",
    "    player_link = cell.hyperlink.target if cell.hyperlink else None\n",
    "\n",
    "    if player_name and player_link:\n",
    "        player_data.append((player_name, player_link))\n",
    "\n",
    "# Convert to DataFrame if needed\n",
    "import pandas as pd\n",
    "df = pd.DataFrame(player_data, columns=[\"Player\", \"Hyperlink\"]).drop_duplicates([\"Player\", \"Hyperlink\"])\n",
    "df[\"Player_ID\"] = df[\"Hyperlink\"].str.split(\"/\").str[-5]\n"
   ]
  },
  {
   "cell_type": "code",
   "execution_count": 34,
   "metadata": {},
   "outputs": [
    {
     "data": {
      "text/html": [
       "<div>\n",
       "<style scoped>\n",
       "    .dataframe tbody tr th:only-of-type {\n",
       "        vertical-align: middle;\n",
       "    }\n",
       "\n",
       "    .dataframe tbody tr th {\n",
       "        vertical-align: top;\n",
       "    }\n",
       "\n",
       "    .dataframe thead th {\n",
       "        text-align: right;\n",
       "    }\n",
       "</style>\n",
       "<table border=\"1\" class=\"dataframe\">\n",
       "  <thead>\n",
       "    <tr style=\"text-align: right;\">\n",
       "      <th></th>\n",
       "      <th>player</th>\n",
       "      <th>gg_id</th>\n",
       "      <th>season</th>\n",
       "      <th>league</th>\n",
       "    </tr>\n",
       "  </thead>\n",
       "  <tbody>\n",
       "    <tr>\n",
       "      <th>0</th>\n",
       "      <td>1Jiang</td>\n",
       "      <td>5421</td>\n",
       "      <td>S15</td>\n",
       "      <td>LPL</td>\n",
       "    </tr>\n",
       "    <tr>\n",
       "      <th>1</th>\n",
       "      <td>1xn</td>\n",
       "      <td>5177</td>\n",
       "      <td>S15</td>\n",
       "      <td>LPL</td>\n",
       "    </tr>\n",
       "    <tr>\n",
       "      <th>2</th>\n",
       "      <td>369</td>\n",
       "      <td>1922</td>\n",
       "      <td>S15</td>\n",
       "      <td>LPL</td>\n",
       "    </tr>\n",
       "    <tr>\n",
       "      <th>3</th>\n",
       "      <td>AKi</td>\n",
       "      <td>3298</td>\n",
       "      <td>S15</td>\n",
       "      <td>LPL</td>\n",
       "    </tr>\n",
       "    <tr>\n",
       "      <th>4</th>\n",
       "      <td>Ale</td>\n",
       "      <td>1968</td>\n",
       "      <td>S15</td>\n",
       "      <td>LPL</td>\n",
       "    </tr>\n",
       "    <tr>\n",
       "      <th>...</th>\n",
       "      <td>...</td>\n",
       "      <td>...</td>\n",
       "      <td>...</td>\n",
       "      <td>...</td>\n",
       "    </tr>\n",
       "    <tr>\n",
       "      <th>323</th>\n",
       "      <td>shanji</td>\n",
       "      <td>3312</td>\n",
       "      <td>S14</td>\n",
       "      <td>LPL</td>\n",
       "    </tr>\n",
       "    <tr>\n",
       "      <th>324</th>\n",
       "      <td>sheer</td>\n",
       "      <td>5351</td>\n",
       "      <td>S14</td>\n",
       "      <td>LPL</td>\n",
       "    </tr>\n",
       "    <tr>\n",
       "      <th>325</th>\n",
       "      <td>xiaofang</td>\n",
       "      <td>5360</td>\n",
       "      <td>S14</td>\n",
       "      <td>LPL</td>\n",
       "    </tr>\n",
       "    <tr>\n",
       "      <th>326</th>\n",
       "      <td>xiaohu</td>\n",
       "      <td>347</td>\n",
       "      <td>S14</td>\n",
       "      <td>LPL</td>\n",
       "    </tr>\n",
       "    <tr>\n",
       "      <th>327</th>\n",
       "      <td>xiaoyueji</td>\n",
       "      <td>4279</td>\n",
       "      <td>S14</td>\n",
       "      <td>LPL</td>\n",
       "    </tr>\n",
       "  </tbody>\n",
       "</table>\n",
       "<p>327 rows × 4 columns</p>\n",
       "</div>"
      ],
      "text/plain": [
       "        player gg_id season league\n",
       "0       1Jiang  5421    S15    LPL\n",
       "1          1xn  5177    S15    LPL\n",
       "2          369  1922    S15    LPL\n",
       "3          AKi  3298    S15    LPL\n",
       "4          Ale  1968    S15    LPL\n",
       "..         ...   ...    ...    ...\n",
       "323     shanji  3312    S14    LPL\n",
       "324      sheer  5351    S14    LPL\n",
       "325   xiaofang  5360    S14    LPL\n",
       "326     xiaohu   347    S14    LPL\n",
       "327  xiaoyueji  4279    S14    LPL\n",
       "\n",
       "[327 rows x 4 columns]"
      ]
     },
     "execution_count": 34,
     "metadata": {},
     "output_type": "execute_result"
    }
   ],
   "source": [
    "load_player_id_df()"
   ]
  },
  {
   "cell_type": "code",
   "execution_count": 2,
   "metadata": {},
   "outputs": [
    {
     "data": {
      "text/html": [
       "<div>\n",
       "<style scoped>\n",
       "    .dataframe tbody tr th:only-of-type {\n",
       "        vertical-align: middle;\n",
       "    }\n",
       "\n",
       "    .dataframe tbody tr th {\n",
       "        vertical-align: top;\n",
       "    }\n",
       "\n",
       "    .dataframe thead th {\n",
       "        text-align: right;\n",
       "    }\n",
       "</style>\n",
       "<table border=\"1\" class=\"dataframe\">\n",
       "  <thead>\n",
       "    <tr style=\"text-align: right;\">\n",
       "      <th></th>\n",
       "      <th>Champion</th>\n",
       "      <th>Result</th>\n",
       "      <th>Score</th>\n",
       "      <th>Build</th>\n",
       "      <th>Duration</th>\n",
       "      <th>Date</th>\n",
       "      <th>Game</th>\n",
       "      <th>Tournament</th>\n",
       "      <th>player</th>\n",
       "      <th>gg_id</th>\n",
       "      <th>season</th>\n",
       "    </tr>\n",
       "  </thead>\n",
       "  <tbody>\n",
       "    <tr>\n",
       "      <th>0</th>\n",
       "      <td>Rumble</td>\n",
       "      <td>Defeat</td>\n",
       "      <td>2/2/1</td>\n",
       "      <td></td>\n",
       "      <td>29:39</td>\n",
       "      <td>2024-08-31</td>\n",
       "      <td>SHG vs FAK</td>\n",
       "      <td>PCS Summer Playoffs 2024</td>\n",
       "      <td>1Jiang</td>\n",
       "      <td>5421</td>\n",
       "      <td>S14</td>\n",
       "    </tr>\n",
       "    <tr>\n",
       "      <th>1</th>\n",
       "      <td>Rumble</td>\n",
       "      <td>Defeat</td>\n",
       "      <td>3/4/7</td>\n",
       "      <td></td>\n",
       "      <td>38:23</td>\n",
       "      <td>2024-08-31</td>\n",
       "      <td>SHG vs FAK</td>\n",
       "      <td>PCS Summer Playoffs 2024</td>\n",
       "      <td>1Jiang</td>\n",
       "      <td>5421</td>\n",
       "      <td>S14</td>\n",
       "    </tr>\n",
       "    <tr>\n",
       "      <th>2</th>\n",
       "      <td>Riven</td>\n",
       "      <td>Defeat</td>\n",
       "      <td>2/4/2</td>\n",
       "      <td></td>\n",
       "      <td>30:01</td>\n",
       "      <td>2024-08-31</td>\n",
       "      <td>SHG vs FAK</td>\n",
       "      <td>PCS Summer Playoffs 2024</td>\n",
       "      <td>1Jiang</td>\n",
       "      <td>5421</td>\n",
       "      <td>S14</td>\n",
       "    </tr>\n",
       "  </tbody>\n",
       "</table>\n",
       "</div>"
      ],
      "text/plain": [
       "  Champion  Result  Score Build  ...                Tournament  player gg_id season\n",
       "0   Rumble  Defeat  2/2/1        ...  PCS Summer Playoffs 2024  1Jiang  5421    S14\n",
       "1   Rumble  Defeat  3/4/7        ...  PCS Summer Playoffs 2024  1Jiang  5421    S14\n",
       "2    Riven  Defeat  2/4/2        ...  PCS Summer Playoffs 2024  1Jiang  5421    S14\n",
       "\n",
       "[3 rows x 11 columns]"
      ]
     },
     "execution_count": 2,
     "metadata": {},
     "output_type": "execute_result"
    }
   ],
   "source": [
    "import pandas as pd\n",
    "from pull_match_list import load_match_list\n",
    "\n",
    "df = load_match_list()\n",
    "df.head(3)"
   ]
  },
  {
   "cell_type": "code",
   "execution_count": 17,
   "metadata": {},
   "outputs": [
    {
     "data": {
      "text/plain": [
       "player  Game                       Date        Result \n",
       "1Jiang  BYG vs FAK                 2024-03-03  Defeat     2\n",
       "                                               Victory    1\n",
       "        CFO vs FAK                 2024-03-23  Defeat     3\n",
       "                                   2024-08-15  Defeat     2\n",
       "                                               Victory    3\n",
       "                                                         ..\n",
       "xqw     LGD Gaming vs AL           2025-01-16  Defeat     3\n",
       "        LGD Gaming vs OMG          2023-01-30  Defeat     2\n",
       "        LGD Gaming vs Top Esports  2025-02-16  Defeat     3\n",
       "        LGD Gaming vs WBG          2023-03-01  Defeat     2\n",
       "        Team WE vs LGD Gaming      2025-01-22  Victory    3\n",
       "Name: count, Length: 37321, dtype: int64"
      ]
     },
     "execution_count": 17,
     "metadata": {},
     "output_type": "execute_result"
    }
   ],
   "source": [
    "df_grouped = df.groupby([\"player\",\"Game\",\"Date\",\"Result\"])[\"Result\"].value_counts()\n",
    "df_grouped\n",
    "# # Keep only those where max count is exactly 3\n",
    "# filtered_groups = df_grouped[df_grouped[\"count\"] == 3]\n",
    "# filtered_groups\n"
   ]
  }
 ],
 "metadata": {
  "kernelspec": {
   "display_name": "blank",
   "language": "python",
   "name": "python3"
  },
  "language_info": {
   "codemirror_mode": {
    "name": "ipython",
    "version": 3
   },
   "file_extension": ".py",
   "mimetype": "text/x-python",
   "name": "python",
   "nbconvert_exporter": "python",
   "pygments_lexer": "ipython3",
   "version": "3.12.8"
  }
 },
 "nbformat": 4,
 "nbformat_minor": 2
}
